{
 "cells": [
  {
   "cell_type": "markdown",
   "id": "a3ad8915",
   "metadata": {},
   "source": [
    "# My Jupyter Notebook on IBM Watson Studio"
   ]
  },
  {
   "cell_type": "markdown",
   "id": "13afcb6b",
   "metadata": {},
   "source": [
    "**MD, NASEIF**  \n",
    "COO in The field of Foods and Beverages"
   ]
  },
  {
   "cell_type": "markdown",
   "id": "ce8b32d2",
   "metadata": {},
   "source": [
    "*I am interested in data science because it helps me understanding consumer's behaviour*"
   ]
  },
  {
   "cell_type": "markdown",
   "id": "23dd20c2",
   "metadata": {},
   "source": [
    "#### my code will find the square root of 25"
   ]
  },
  {
   "cell_type": "code",
   "execution_count": 2,
   "id": "22c2f4d3",
   "metadata": {},
   "outputs": [
    {
     "data": {
      "text/plain": [
       "5"
      ]
     },
     "execution_count": 2,
     "metadata": {},
     "output_type": "execute_result"
    }
   ],
   "source": [
    "import math\n",
    "math.isqrt(25)"
   ]
  },
  {
   "cell_type": "markdown",
   "id": "4903e284",
   "metadata": {},
   "source": [
    ">  block  \n",
    "1. List  \n",
    "+ sub\n",
    "+ sub  \n",
    "***\n",
    "Say Hi\n",
    "***"
   ]
  },
  {
   "cell_type": "code",
   "execution_count": null,
   "id": "b0498878",
   "metadata": {},
   "outputs": [],
   "source": []
  }
 ],
 "metadata": {
  "kernelspec": {
   "display_name": "Python 3 (ipykernel)",
   "language": "python",
   "name": "python3"
  },
  "language_info": {
   "codemirror_mode": {
    "name": "ipython",
    "version": 3
   },
   "file_extension": ".py",
   "mimetype": "text/x-python",
   "name": "python",
   "nbconvert_exporter": "python",
   "pygments_lexer": "ipython3",
   "version": "3.8.8"
  }
 },
 "nbformat": 4,
 "nbformat_minor": 5
}
